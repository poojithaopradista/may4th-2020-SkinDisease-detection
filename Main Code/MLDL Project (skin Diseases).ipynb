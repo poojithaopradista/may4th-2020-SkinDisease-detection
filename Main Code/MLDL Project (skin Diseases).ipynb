{
 "cells": [
  {
   "cell_type": "markdown",
   "metadata": {},
   "source": [
    "# Skin Diseases Identification Using Image Analysis"
   ]
  },
  {
   "cell_type": "raw",
   "metadata": {},
   "source": [
    "# Steps in Convolution Neural Networks\n",
    "1.Convolution\n",
    "2.Max pooling\n",
    "3.Flattening\n",
    "4.Full Connection"
   ]
  },
  {
   "cell_type": "raw",
   "metadata": {},
   "source": [
    "# Step 1:Convolution\n",
    "\n",
    "    *convolution is done to an image using feature dectector\n",
    "    *when input image is convolveed with the feature detector then we get a feature map\n",
    "    *by applying convolution operation size of the image is reduced so we may lose some information. but features detector is         one which stores the features and unwanted features are removed.\n",
    "    *WE will apply no of feature detectors(filter) to a single image so we will be getting nof features detectors. SO using no       of feature detectors we get max no of features in an image so we will be getting no of feature maps\n",
    "    *Group of feature map is called CONVOLUTION layer"
   ]
  },
  {
   "cell_type": "raw",
   "metadata": {},
   "source": [
    "# Step 2:Max pooling\n",
    "\n",
    "Types of pooling : Max pooling,Mean Pooling,Sum pooing\n",
    "Max Pooling:By applyimg max pooling we ar neglecting 75% of unwanted features and we are reducing spacial invariance this will avoid over fitting of the data ."
   ]
  },
  {
   "cell_type": "raw",
   "metadata": {},
   "source": [
    "# Step 3:Flattening\n",
    "\n",
    "flattening is converting n dimension to 1 dimension and applying ann to that 1 dimension array which just acts like inputs to the neurons.\n",
    "When output is not correct then in the backward propogation along with the weights feature detector(filter) is also optimised"
   ]
  },
  {
   "cell_type": "code",
   "execution_count": null,
   "metadata": {},
   "outputs": [],
   "source": [
    "Step 4: Full Connection\n",
    "Full connection is dense layers"
   ]
  },
  {
   "cell_type": "markdown",
   "metadata": {},
   "source": [
    "# Step 1: Import Keras Libraies"
   ]
  },
  {
   "cell_type": "code",
   "execution_count": 1,
   "metadata": {},
   "outputs": [
    {
     "name": "stderr",
     "output_type": "stream",
     "text": [
      "Using TensorFlow backend.\n"
     ]
    }
   ],
   "source": [
    "from keras.models import Sequential\n",
    "from keras.layers import Dense\n",
    "from keras.layers import Convolution2D\n",
    "from keras.layers import MaxPooling2D\n",
    "from keras.layers import Flatten"
   ]
  },
  {
   "cell_type": "markdown",
   "metadata": {},
   "source": [
    "# Step 2: Data Preprocessing"
   ]
  },
  {
   "cell_type": "code",
   "execution_count": 2,
   "metadata": {},
   "outputs": [],
   "source": [
    "from keras.preprocessing.image import ImageDataGenerator\n",
    "train_datagen=ImageDataGenerator(rescale=1./255,shear_range=0.2,zoom_range=0.2,horizontal_flip=True)\n",
    "test_datagen=ImageDataGenerator(rescale=1./255)"
   ]
  },
  {
   "cell_type": "markdown",
   "metadata": {},
   "source": [
    "# Step 3: Loading The Dataset"
   ]
  },
  {
   "cell_type": "code",
   "execution_count": 3,
   "metadata": {},
   "outputs": [
    {
     "name": "stdout",
     "output_type": "stream",
     "text": [
      "Found 441 images belonging to 5 classes.\n",
      "Found 197 images belonging to 5 classes.\n"
     ]
    }
   ],
   "source": [
    "x_train=train_datagen.flow_from_directory(r'C:\\Users\\sona\\Desktop\\MLDL project\\dataset (skin diseases)\\Train',target_size=(64,64),batch_size=10,class_mode='categorical')\n",
    "x_test=test_datagen.flow_from_directory(r'C:\\Users\\sona\\Desktop\\MLDL project\\dataset (skin diseases)\\Test',target_size=(64,64),batch_size=10,class_mode='categorical')"
   ]
  },
  {
   "cell_type": "code",
   "execution_count": 4,
   "metadata": {},
   "outputs": [
    {
     "name": "stdout",
     "output_type": "stream",
     "text": [
      "{'actinic keratosis': 0, 'dermatofibroma': 1, 'melanoma': 2, 'seborrheic keratosis': 3, 'squamous cell carcinoma': 4}\n"
     ]
    }
   ],
   "source": [
    "print(x_train.class_indices)"
   ]
  },
  {
   "cell_type": "markdown",
   "metadata": {},
   "source": [
    "# Step 4: Initialize CNN Model"
   ]
  },
  {
   "cell_type": "code",
   "execution_count": 5,
   "metadata": {},
   "outputs": [],
   "source": [
    "model=Sequential()"
   ]
  },
  {
   "cell_type": "markdown",
   "metadata": {},
   "source": [
    "# Step 5: Add Convolution Layer"
   ]
  },
  {
   "cell_type": "code",
   "execution_count": 6,
   "metadata": {},
   "outputs": [
    {
     "name": "stdout",
     "output_type": "stream",
     "text": [
      "WARNING:tensorflow:From C:\\Users\\sona\\Anaconda3\\lib\\site-packages\\tensorflow\\python\\framework\\op_def_library.py:263: colocate_with (from tensorflow.python.framework.ops) is deprecated and will be removed in a future version.\n",
      "Instructions for updating:\n",
      "Colocations handled automatically by placer.\n"
     ]
    }
   ],
   "source": [
    "model.add(Convolution2D(32,(3,3),input_shape=(64,64,3),activation=\"relu\"))"
   ]
  },
  {
   "cell_type": "markdown",
   "metadata": {},
   "source": [
    "# Step 6: Add MaxPooling Layer"
   ]
  },
  {
   "cell_type": "code",
   "execution_count": 7,
   "metadata": {},
   "outputs": [],
   "source": [
    "model.add(MaxPooling2D(pool_size=(2,2)))"
   ]
  },
  {
   "cell_type": "markdown",
   "metadata": {},
   "source": [
    "# Step 7: Add Flattening Layer (input layer)"
   ]
  },
  {
   "cell_type": "code",
   "execution_count": 8,
   "metadata": {},
   "outputs": [],
   "source": [
    "model.add(Flatten())"
   ]
  },
  {
   "cell_type": "markdown",
   "metadata": {},
   "source": [
    "# Step 8: Add Dense Layer (ANN hidden layer)"
   ]
  },
  {
   "cell_type": "code",
   "execution_count": 9,
   "metadata": {},
   "outputs": [
    {
     "name": "stderr",
     "output_type": "stream",
     "text": [
      "C:\\Users\\sona\\Anaconda3\\lib\\site-packages\\ipykernel_launcher.py:1: UserWarning: Update your `Dense` call to the Keras 2 API: `Dense(units=128, activation=\"relu\", kernel_initializer=\"random_uniform\")`\n",
      "  \"\"\"Entry point for launching an IPython kernel.\n"
     ]
    }
   ],
   "source": [
    "model.add(Dense(units=128,init=\"random_uniform\",activation=\"relu\"))"
   ]
  },
  {
   "cell_type": "markdown",
   "metadata": {},
   "source": [
    "# Step 9: Add Dense Layer(ANN output layer)"
   ]
  },
  {
   "cell_type": "code",
   "execution_count": 10,
   "metadata": {},
   "outputs": [
    {
     "name": "stderr",
     "output_type": "stream",
     "text": [
      "C:\\Users\\sona\\Anaconda3\\lib\\site-packages\\ipykernel_launcher.py:1: UserWarning: Update your `Dense` call to the Keras 2 API: `Dense(units=5, activation=\"softmax\", kernel_initializer=\"random_uniform\")`\n",
      "  \"\"\"Entry point for launching an IPython kernel.\n"
     ]
    }
   ],
   "source": [
    "model.add(Dense(units=5,init=\"random_uniform\",activation=\"softmax\"))"
   ]
  },
  {
   "cell_type": "markdown",
   "metadata": {},
   "source": [
    "# Step 10: Compile the model"
   ]
  },
  {
   "cell_type": "code",
   "execution_count": 11,
   "metadata": {},
   "outputs": [],
   "source": [
    "model.compile(loss=\"categorical_crossentropy\",optimizer=\"adam\",metrics=[\"accuracy\"])"
   ]
  },
  {
   "cell_type": "markdown",
   "metadata": {},
   "source": [
    "# Step 11: Train The Data"
   ]
  },
  {
   "cell_type": "code",
   "execution_count": 12,
   "metadata": {
    "scrolled": true
   },
   "outputs": [
    {
     "name": "stdout",
     "output_type": "stream",
     "text": [
      "WARNING:tensorflow:From C:\\Users\\sona\\Anaconda3\\lib\\site-packages\\tensorflow\\python\\ops\\math_ops.py:3066: to_int32 (from tensorflow.python.ops.math_ops) is deprecated and will be removed in a future version.\n",
      "Instructions for updating:\n",
      "Use tf.cast instead.\n",
      "Epoch 1/50\n",
      " 4/45 [=>............................] - ETA: 3:39 - loss: 1.8595 - acc: 0.2250"
     ]
    },
    {
     "name": "stderr",
     "output_type": "stream",
     "text": [
      "C:\\Users\\sona\\Anaconda3\\lib\\site-packages\\keras\\callbacks.py:122: UserWarning: Method on_batch_end() is slow compared to the batch update (0.237269). Check your callbacks.\n",
      "  % delta_t_median)\n",
      "C:\\Users\\sona\\Anaconda3\\lib\\site-packages\\keras\\callbacks.py:122: UserWarning: Method on_batch_end() is slow compared to the batch update (0.120128). Check your callbacks.\n",
      "  % delta_t_median)\n"
     ]
    },
    {
     "name": "stdout",
     "output_type": "stream",
     "text": [
      "45/45 [==============================] - 50s 1s/step - loss: 1.6506 - acc: 0.2312 - val_loss: 1.4830 - val_acc: 0.3452\n",
      "Epoch 2/50\n",
      "45/45 [==============================] - 16s 357ms/step - loss: 1.4319 - acc: 0.3246 - val_loss: 1.8705 - val_acc: 0.3299\n",
      "Epoch 3/50\n",
      "45/45 [==============================] - 17s 388ms/step - loss: 1.3413 - acc: 0.3824 - val_loss: 1.1496 - val_acc: 0.4822\n",
      "Epoch 4/50\n",
      "45/45 [==============================] - 17s 382ms/step - loss: 1.1295 - acc: 0.4709 - val_loss: 1.0776 - val_acc: 0.5685\n",
      "Epoch 5/50\n",
      "45/45 [==============================] - 17s 372ms/step - loss: 1.1289 - acc: 0.5024 - val_loss: 1.0593 - val_acc: 0.5279\n",
      "Epoch 6/50\n",
      "45/45 [==============================] - 17s 369ms/step - loss: 1.1051 - acc: 0.4847 - val_loss: 1.0984 - val_acc: 0.5330\n",
      "Epoch 7/50\n",
      "45/45 [==============================] - 16s 363ms/step - loss: 1.1424 - acc: 0.4864 - val_loss: 1.0517 - val_acc: 0.5076\n",
      "Epoch 8/50\n",
      "45/45 [==============================] - 16s 366ms/step - loss: 1.0545 - acc: 0.5176 - val_loss: 0.9662 - val_acc: 0.6244\n",
      "Epoch 9/50\n",
      "45/45 [==============================] - 16s 365ms/step - loss: 1.0609 - acc: 0.5376 - val_loss: 1.1129 - val_acc: 0.5076\n",
      "Epoch 10/50\n",
      "45/45 [==============================] - 17s 368ms/step - loss: 1.0982 - acc: 0.5113 - val_loss: 1.0310 - val_acc: 0.6041\n",
      "Epoch 11/50\n",
      "45/45 [==============================] - 17s 374ms/step - loss: 1.0068 - acc: 0.5598 - val_loss: 1.0108 - val_acc: 0.5381\n",
      "Epoch 12/50\n",
      "45/45 [==============================] - 17s 371ms/step - loss: 1.0045 - acc: 0.5531 - val_loss: 0.9402 - val_acc: 0.6142\n",
      "Epoch 13/50\n",
      "45/45 [==============================] - 16s 360ms/step - loss: 0.9690 - acc: 0.5536 - val_loss: 0.9040 - val_acc: 0.6599\n",
      "Epoch 14/50\n",
      "45/45 [==============================] - 16s 365ms/step - loss: 1.0530 - acc: 0.5554 - val_loss: 0.9213 - val_acc: 0.6294\n",
      "Epoch 15/50\n",
      "45/45 [==============================] - 16s 364ms/step - loss: 0.9756 - acc: 0.5669 - val_loss: 0.9261 - val_acc: 0.6193\n",
      "Epoch 16/50\n",
      "45/45 [==============================] - 17s 372ms/step - loss: 0.9799 - acc: 0.5598 - val_loss: 0.8610 - val_acc: 0.6802\n",
      "Epoch 17/50\n",
      "45/45 [==============================] - 17s 374ms/step - loss: 0.9271 - acc: 0.6025 - val_loss: 1.0365 - val_acc: 0.5127\n",
      "Epoch 18/50\n",
      "45/45 [==============================] - 16s 365ms/step - loss: 0.8858 - acc: 0.6243 - val_loss: 0.9550 - val_acc: 0.6142\n",
      "Epoch 19/50\n",
      "45/45 [==============================] - 17s 372ms/step - loss: 0.9553 - acc: 0.5932 - val_loss: 0.8931 - val_acc: 0.6041\n",
      "Epoch 20/50\n",
      "45/45 [==============================] - 17s 372ms/step - loss: 0.8645 - acc: 0.6376 - val_loss: 0.7911 - val_acc: 0.6650\n",
      "Epoch 21/50\n",
      "45/45 [==============================] - 16s 356ms/step - loss: 0.8563 - acc: 0.5914 - val_loss: 0.7428 - val_acc: 0.7208\n",
      "Epoch 22/50\n",
      "45/45 [==============================] - 17s 375ms/step - loss: 0.8402 - acc: 0.6358 - val_loss: 0.8047 - val_acc: 0.6497\n",
      "Epoch 23/50\n",
      "45/45 [==============================] - 16s 365ms/step - loss: 0.9590 - acc: 0.5887 - val_loss: 0.7815 - val_acc: 0.6802\n",
      "Epoch 24/50\n",
      "45/45 [==============================] - 16s 361ms/step - loss: 0.8131 - acc: 0.6710 - val_loss: 0.9633 - val_acc: 0.5990\n",
      "Epoch 25/50\n",
      "45/45 [==============================] - 17s 375ms/step - loss: 0.8510 - acc: 0.6376 - val_loss: 0.7422 - val_acc: 0.7107\n",
      "Epoch 26/50\n",
      "45/45 [==============================] - 17s 372ms/step - loss: 0.7833 - acc: 0.6554 - val_loss: 0.8709 - val_acc: 0.5888\n",
      "Epoch 27/50\n",
      "45/45 [==============================] - 17s 371ms/step - loss: 0.8582 - acc: 0.6376 - val_loss: 0.7980 - val_acc: 0.6548\n",
      "Epoch 28/50\n",
      "45/45 [==============================] - 17s 367ms/step - loss: 0.8264 - acc: 0.6425 - val_loss: 0.6773 - val_acc: 0.7157\n",
      "Epoch 29/50\n",
      "45/45 [==============================] - 16s 361ms/step - loss: 0.7609 - acc: 0.6732 - val_loss: 0.7011 - val_acc: 0.7005\n",
      "Epoch 30/50\n",
      "45/45 [==============================] - 17s 371ms/step - loss: 0.7304 - acc: 0.7021 - val_loss: 0.8834 - val_acc: 0.6650\n",
      "Epoch 31/50\n",
      "45/45 [==============================] - 17s 371ms/step - loss: 0.8184 - acc: 0.6336 - val_loss: 0.6885 - val_acc: 0.6751\n",
      "Epoch 32/50\n",
      "45/45 [==============================] - 16s 358ms/step - loss: 0.7415 - acc: 0.6888 - val_loss: 0.9578 - val_acc: 0.6142\n",
      "Epoch 33/50\n",
      "45/45 [==============================] - 17s 377ms/step - loss: 0.6836 - acc: 0.7310 - val_loss: 0.6605 - val_acc: 0.7462\n",
      "Epoch 34/50\n",
      "45/45 [==============================] - 16s 365ms/step - loss: 0.7025 - acc: 0.6714 - val_loss: 0.6747 - val_acc: 0.7208\n",
      "Epoch 35/50\n",
      "45/45 [==============================] - 17s 367ms/step - loss: 0.7350 - acc: 0.7021 - val_loss: 0.7741 - val_acc: 0.6853\n",
      "Epoch 36/50\n",
      "45/45 [==============================] - 16s 362ms/step - loss: 0.7189 - acc: 0.6825 - val_loss: 0.5798 - val_acc: 0.7563\n",
      "Epoch 37/50\n",
      "45/45 [==============================] - 17s 369ms/step - loss: 0.6274 - acc: 0.7243 - val_loss: 0.5088 - val_acc: 0.7970\n",
      "Epoch 38/50\n",
      "45/45 [==============================] - 16s 362ms/step - loss: 0.6515 - acc: 0.7114 - val_loss: 0.6091 - val_acc: 0.7462\n",
      "Epoch 39/50\n",
      "45/45 [==============================] - 17s 367ms/step - loss: 0.6463 - acc: 0.7377 - val_loss: 0.5234 - val_acc: 0.7970\n",
      "Epoch 40/50\n",
      "45/45 [==============================] - 17s 368ms/step - loss: 0.5890 - acc: 0.7377 - val_loss: 0.5188 - val_acc: 0.7766\n",
      "Epoch 41/50\n",
      "45/45 [==============================] - 17s 377ms/step - loss: 0.5948 - acc: 0.7488 - val_loss: 0.5068 - val_acc: 0.8122\n",
      "Epoch 42/50\n",
      "45/45 [==============================] - 16s 361ms/step - loss: 0.5600 - acc: 0.7777 - val_loss: 0.5613 - val_acc: 0.7462\n",
      "Epoch 43/50\n",
      "45/45 [==============================] - 17s 377ms/step - loss: 0.5721 - acc: 0.7532 - val_loss: 0.4596 - val_acc: 0.8173\n",
      "Epoch 44/50\n",
      "45/45 [==============================] - 16s 355ms/step - loss: 0.5043 - acc: 0.7977 - val_loss: 0.4446 - val_acc: 0.8426\n",
      "Epoch 45/50\n",
      "45/45 [==============================] - 17s 374ms/step - loss: 0.5676 - acc: 0.7715 - val_loss: 0.5033 - val_acc: 0.7919\n",
      "Epoch 46/50\n",
      "45/45 [==============================] - 17s 368ms/step - loss: 0.5999 - acc: 0.7581 - val_loss: 0.4401 - val_acc: 0.8782\n",
      "Epoch 47/50\n",
      "45/45 [==============================] - 17s 369ms/step - loss: 0.5534 - acc: 0.7799 - val_loss: 0.4905 - val_acc: 0.8426\n",
      "Epoch 48/50\n",
      "45/45 [==============================] - 17s 371ms/step - loss: 0.4878 - acc: 0.8088 - val_loss: 0.4245 - val_acc: 0.8376\n",
      "Epoch 49/50\n",
      "45/45 [==============================] - 17s 374ms/step - loss: 0.4942 - acc: 0.8088 - val_loss: 0.3809 - val_acc: 0.8782\n",
      "Epoch 50/50\n",
      "45/45 [==============================] - 17s 389ms/step - loss: 0.4221 - acc: 0.8288 - val_loss: 0.3522 - val_acc: 0.9137\n"
     ]
    },
    {
     "data": {
      "text/plain": [
       "<keras.callbacks.History at 0x2b623cdba20>"
      ]
     },
     "execution_count": 12,
     "metadata": {},
     "output_type": "execute_result"
    }
   ],
   "source": [
    "model.fit_generator(x_train, steps_per_epoch=45, epochs=50, validation_data = x_test, validation_steps=20)"
   ]
  },
  {
   "cell_type": "markdown",
   "metadata": {},
   "source": [
    "# Step 12: Save The Model"
   ]
  },
  {
   "cell_type": "code",
   "execution_count": 13,
   "metadata": {},
   "outputs": [],
   "source": [
    "model.save(\"skin.h5\")"
   ]
  },
  {
   "cell_type": "markdown",
   "metadata": {},
   "source": [
    "END"
   ]
  }
 ],
 "metadata": {
  "kernelspec": {
   "display_name": "Python 3",
   "language": "python",
   "name": "python3"
  },
  "language_info": {
   "codemirror_mode": {
    "name": "ipython",
    "version": 3
   },
   "file_extension": ".py",
   "mimetype": "text/x-python",
   "name": "python",
   "nbconvert_exporter": "python",
   "pygments_lexer": "ipython3",
   "version": "3.7.3"
  }
 },
 "nbformat": 4,
 "nbformat_minor": 2
}
